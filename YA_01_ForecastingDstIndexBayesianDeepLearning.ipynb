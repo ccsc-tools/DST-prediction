{
 "cells": [
  {
   "cell_type": "markdown",
   "metadata": {},
   "source": [
    "# **Forecasting the Disturbance Storm Time Index with Bayesian Deep Learning**"
   ]
  },
  {
   "cell_type": "markdown",
   "metadata": {
    "toc": true
   },
   "source": [
    "<h1><b>Table of Contents</b><span class=\"tocSkip\"></span> </h1>\n",
    "<div class=\"toc\">\n",
    "<!--     <ul class=\"toc-item\"> -->\n",
    "        <li><span><a href=\"#Template-Notebook-for-EarthCube---Long-Version\"\n",
    "                    data-toc-modified-id=\"Template-Notebook-for-EarthCube---Long-Version-1\"><span\n",
    "                        class=\"toc-item-num\">1&nbsp;&nbsp;</span>YA_Forecasting the Disturbance Storm Time Index with Bayesian Deep Learning\n",
    "                    Learning</a></span>\n",
    "            <ul class=\"toc-item\" style='margin-top:0px; margin-bottom:0px'>\n",
    "                <li><span><a href=\"#Author(s)\" data-toc-modified-id=\"Author(s)-1.1\"><span\n",
    "                                class=\"toc-item-num\">1.1&nbsp;&nbsp;</span>Author(s)</a></span></li>\n",
    "                <li><span><a href=\"#Purpose\" data-toc-modified-id=\"Purpose-1.2\"><span\n",
    "                                class=\"toc-item-num\">1.2&nbsp;&nbsp;</span>Purpose</a></span></li>\n",
    "                <li><span><a href=\"#Technical-Contributions\" data-toc-modified-id=\"Technical-Contributions-1.3\"><span\n",
    "                                class=\"toc-item-num\">1.3&nbsp;&nbsp;</span>Technical Contributions</a></span></li>\n",
    "                <li><span><a href=\"#Methodology\" data-toc-modified-id=\"Methodology-1.4\"><span\n",
    "                                class=\"toc-item-num\">1.4&nbsp;&nbsp;</span>Methodology</a></span></li>\n",
    "                <li><span><a href=\"#Funding\" data-toc-modified-id=\"Funding-1.6\"><span\n",
    "                                class=\"toc-item-num\">1.5&nbsp;&nbsp;</span>Funding</a></span></li>\n",
    "                <li><span><a href=\"#Keywords\" data-toc-modified-id=\"Keywords-1.7\"><span\n",
    "                                class=\"toc-item-num\">1.6&nbsp;&nbsp;</span>Keywords</a></span></li>\n",
    "                <li><span><a href=\"#Citation\" data-toc-modified-id=\"Citation-1.8\"><span\n",
    "                                class=\"toc-item-num\">1.7&nbsp;&nbsp;</span>Citation</a></span></li>\n",
    "                <li><span style='display:inline'><a href=\"#Acknowledgements\" data-toc-modified-id=\"Acknowledgements-1.11\"><span\n",
    "                        class=\"toc-item-num\">1.8&nbsp;&nbsp;</span>Acknowledgements</a></span></li>                \n",
    "            </ul>\n",
    "        </li>\n",
    "<!--     </ul> -->\n",
    "    <li><span><a href=\"#Setup\" data-toc-modified-id=\"Setup-2\"><span\n",
    "                    class=\"toc-item-num\">2&nbsp;&nbsp;</span>Setup</a></span>\n",
    "    </li>\n",
    "    <li><span><a href=\"#Data-Processing-and-Analysis\" data-toc-modified-id=\"Data-Processing-and-Analysis-3\"><span\n",
    "                    class=\"toc-item-num\">3&nbsp;&nbsp;</span>Data Processing and Analysis</a></span></li>\n",
    "    <li><span><a href=\"#Binder\" data-toc-modified-id=\"Binder-4\"><span\n",
    "                    class=\"toc-item-num\">4&nbsp;&nbsp;</span>Binder</a></span></li>\n",
    "    <li><span><a href=\"#DSTT-Workflow-and-Results\" data-toc-modified-id=\"DSTT-Workflow-5\"><span\n",
    "                    class=\"toc-item-num\">5&nbsp;&nbsp;</span>DSTT Workflow and Results</a></span>\n",
    "        <ul class=\"toc-item\" style='margin-top:0px;margin-bottom:0px'>\n",
    "            <li>\n",
    "                <span><a href=\"#Data-Preparation-and-Loading\"\n",
    "                        data-toc-modified-id=\"Data-Preparation-and-Loading-5.1\"><span\n",
    "                            class=\"toc-item-num\">5.1&nbsp;&nbsp;</span>Data Preparation and Loading</a></span>\n",
    "            </li>\n",
    "            <li>\n",
    "                <span><a href=\"#Predicting-with-Pretrained-Models\"\n",
    "                        data-toc-modified-id=\"Predicting-with-Pretrained Models-5.6\"><span\n",
    "                            class=\"toc-item-num\">5.2&nbsp;&nbsp;</span>Predicting with Pretrained Models</a></span>\n",
    "            </li>            \n",
    "            <li>\n",
    "                <span><a href=\"#Plotting-the-Pretrained-Models-Results\"\n",
    "                        data-toc-modified-id=\"#Plotting-the-Pretrained-Models-Results-5.3\"><span\n",
    "                            class=\"toc-item-num\">5.3&nbsp;&nbsp;</span>Plotting the Pretrained Models Results</a></span>\n",
    "            </li>\n",
    "            <li>\n",
    "                <span><a href=\"#DSTT-Model-Training-and-Testing-Example\"\n",
    "                        data-toc-modified-id=\"DSTT-Model-Training-and-Testing-Example-5.4\"><span\n",
    "                            class=\"toc-item-num\">5.4&nbsp;&nbsp;</span>DSTT Model Training and Testing Example</a></span>\n",
    "            </li>\n",
    "            <li>\n",
    "                <span><a href=\"#DSTT-Model-Training-with-Sample-Data\"\n",
    "                        data-toc-modified-id=\"DSTT-Model-Training-with-Sample-Data\"><span\n",
    "                            class=\"toc-item-num\">5.5&nbsp;&nbsp;</span>DSTT Model Training with Sample Data</a></span>\n",
    "            </li>\n",
    "            <li>\n",
    "                <span><a href=\"#Predicting-with-Your-Trained-DSTT-Model\"\n",
    "                        data-toc-modified-id=\"Predicting-with-Your-Trained-DSTT Model\"><span\n",
    "                            class=\"toc-item-num\">5.6&nbsp;&nbsp;</span>Predicting with Your Trained DSTT Model</a></span>\n",
    "            </li>\n",
    "            <li>\n",
    "                <span><a href=\"#Plotting-the-Results-for-Your-Trained-Model\"\n",
    "                        data-toc-modified-id=\"Plotting-the-Results-for-Your-Trained-Model\"><span\n",
    "                            class=\"toc-item-num\">5.6&nbsp;&nbsp;</span>Plotting the Results for Your Trained Model</a></span>\n",
    "            </li> \n",
    "            <li>\n",
    "                <span><a href=\"#Timing\"\n",
    "                        data-toc-modified-id=\"Timing-5.7\"><span\n",
    "                            class=\"toc-item-num\">5.7&nbsp;&nbsp;</span>Timing</a></span>\n",
    "            </li>            \n",
    "        </ul>\n",
    "    </li>\n",
    "<!--     </ul> -->\n",
    "</div>            \n",
    "        </ul>\n",
    "    </li>\n",
    "    <li><span><a href=\"#Conclusions\" data-toc-modified-id=\"Conclusions-6\"><span\n",
    "                    class=\"toc-item-num\">6&nbsp;&nbsp;</span>Conclusions</a></span>\n",
    "    </li>\n",
    "    <li><span><a href=\"#References\" data-toc-modified-id=\"References-7\"><span\n",
    "                    class=\"toc-item-num\">7&nbsp;&nbsp;</span>References</a></span>\n",
    "    </li>    \n",
    "    </ul>\n",
    "</div>"
   ]
  },
  {
   "cell_type": "markdown",
   "metadata": {},
   "source": [
    "### **Author(s)**\n",
    "- Author1 = {\"name\": \"Yasser Abduallah\", \"affiliation\": \"Department of Computer Science, New Jersey Institute of Technology\", \"email\": \"ya54@njit.edu\", \"orcid\": \"https://orcid.org/0000-0003-0792-2270\"}\n",
    "- Author2 = {\"name\": \"Jason T. L. Wang\", \"affiliation\": \"Department of Computer Science, New Jersey Institute of Technology\", \"email\": \"wangj@njit.edu\", \"orcid\": \"https://orcid.org/0000-0002-2486-1097\"}\n",
    "- Author3 = {\"name\": \"Prianka Bose\", \"affiliation\": \"Department of Computer Science, New Jersey Institute of Technology\", \"email\": \"pb524@njit.edu\", \"orcid\": \"\"}\n",
    "- Author4 = {\"name\": \"Genwei Zhang\", \"affiliation\": \"Department of Computer Science, New Jersey Institute of Technology\", \"email\": \"gz6@njit.edu\", \"orcid\": \"\"}\n",
    "- Author5 = {\"name\": \"Firas Gerges\", \"affiliation\": \"Department of Computer Science, New Jersey Institute of Technology\", \"email\": \"fg92@njit.edu\", \"orcid\": \"\"}\n",
    "- Author6 = {\"name\": \"Haimin Wang\", \"affiliation\": \"Institute for Space Weather Sciences, New Jersey Institute of Technology\", \"email\": \"haimin.wang@njit.edu\", \"orcid\": \"https://orcid.org/0000-0002-5233-565X\"}"
   ]
  },
  {
   "cell_type": "markdown",
   "metadata": {},
   "source": [
    "### **Purpose**\n",
    "The disturbance storm time (Dst) index is an important and useful measurement in space weather research. It has been used to characterize the size and intensity of a geomagnetic storm. A negative Dst value means that the Earth’s magnetic field is weakened, which happens during storms. Here, we present a novel deep learning method, called the Dst Transformer (or DSTT for short), to perform short-term, 1-6 hour ahead, forecasting of the Dst index based on the solar wind parameters provided by the NASA Space Science Data Coordinated Archive. The Dst Transformer combines a multi-head attention layer with Bayesian inference, which is capable of quantifying both aleatoric uncertainty and epistemic uncertainty when making Dst predictions. Experimental results show that the proposed Dst Transformer outperforms related machine learning methods in terms of the root mean square error and R-squared. Furthermore, the Dst Transformer can produce both data and model uncertainty quantification results, which can not be done by the existing methods. To our knowledge, this is the first time that Bayesian deep learning has been used for Dst index forecasting.\n",
    "\n",
    "\n",
    "In this notebook we provide an overview of the DSTT system to demonstrate how to forecast Dst index using deep learning (DL) and solar wind parameters and provide uncertatinty quantification with Bayesian network.\n",
    "\n",
    "### **Technical Contributions**\n",
    "\n",
    "- We provide the community with a new tool to forecast the occurrance of the  disturbance storm time (Dst) index  for the next 1, 2, 3, 4, 5, or 6 hours ahead. The tools also provide data and model uncertainty quantification.\n",
    "\n",
    "\n",
    "### **Methodology**\n",
    "\n",
    "  \n",
    "  <img src=\"figures/dstnet_architecture.png\" width=\"650\"/>\n",
    "\n",
    "<br>\n",
    "\n",
    "\n",
    "\n",
    "<br>\n",
    "\n",
    "This notebook leverages python deep learning to describe the steps on how to use the DSTT tool to forecast the Dst index for 1 to 6 hours ahead.\n",
    "\n",
    "### **Funding**\n",
    "This work was supported by U.S. NSF grants AGS-1927578 and AGS-1954737 and supported by NASA under grants 80NSSC18K1705, 80NSSC19K0068, and 80NSSC20K1282.\n",
    "\n",
    "### **Keywords**\n",
    "keywords=[\"DST\",\"Index\",\"Forecasting\", \"Prediction\", \"Machine\", \"Learning\",\"Solar\",'Wind\"]\n",
    "\n",
    "### **Citation**\n",
    "To cite this notebook: Yasser Abduallah, Jason T. L. Wang, Prianka Bose, Genwei Zhang, Firas Gerges, and Haimin Wang.  Forecasting the Disturbance Storm Time Index with Bayesian Deep Learning, available at: <a href='https://github.com/ccsc-tools/Dst-prediction/YA_01_ForecastingDstIndexBayesianDeepLearning.ipynb' target='new'>https://github.com/ccsc-tools/Dst-prediction/YA_01_ForecastingDstIndexBayesianDeepLearning.ipynb</a>.\n",
    "\n",
    "\n",
    "\n",
    "### **Acknowledgements** \n"
   ]
  },
  {
   "cell_type": "markdown",
   "metadata": {},
   "source": [
    "# **Setup**\n",
    "\n",
    "**Installation on Local Machine**<br>\n",
    "Running this notebook in a local machine requires Python version 3.9.x with the following packages and their version:\n",
    "\n",
    "|Library | Version   | Description  |\n",
    "|---|---|---|\n",
    "|keras| 2.6.0 | Deep learning API|\n",
    "|numpy| 1.21.5| Array manipulation|\n",
    "|scikit-learn| 1.0.1| Machine learning|\n",
    "|sklearn| latest| Tools for predictive data analysis|\n",
    "|matlabplot| 3.4.3| Visutalization tool|\n",
    "| pandas|1.3.4| Data loading and manipulation|\n",
    "| seaborn | 0.11.2| Visualization tool|\n",
    "| scipy | 1.7.1| Provides algorithms for optimization and statistics|\n",
    "| tensorboard| 2.7.0 | Provides the visualization and tooling needed for machine learning|\n",
    "| tensorflow-gpu| 2.6.1| Deep learning tool for high performance computation |\n",
    "|tensorflow-probability | 0.14.1| For probabilistic models|"
   ]
  },
  {
   "cell_type": "markdown",
   "metadata": {},
   "source": [
    "\n",
    "\n",
    " **Library Import**<br>\n",
    "The following libraries need to be imported."
   ]
  },
  {
   "cell_type": "code",
   "execution_count": 1,
   "metadata": {
    "scrolled": true
   },
   "outputs": [
    {
     "name": "stdout",
     "output_type": "stream",
     "text": [
      "Importing packages..\n",
      "Packages imported\n",
      "Changing working directory to DSTT_Package..\n"
     ]
    }
   ],
   "source": [
    "#supress warning messages\n",
    "import warnings\n",
    "warnings.filterwarnings('ignore')\n",
    "print('Importing packages..')\n",
    "# Data manipulation\n",
    "import pandas as pd\n",
    "import numpy as np\n",
    "import os\n",
    "print('Packages imported')\n",
    "#make sure the scripts are executed in the correct pacakage location.\n",
    "if os.path.exists('DSTT_Package'):\n",
    "    print('Changing working directory to DSTT_Package..')\n",
    "    os.chdir('DSTT_Package')\n",
    "import sys\n",
    "sys.path.append('.') \n"
   ]
  },
  {
   "cell_type": "markdown",
   "metadata": {},
   "source": [
    "# **Data Processing and Analysis**\n"
   ]
  },
  {
   "cell_type": "markdown",
   "metadata": {},
   "source": [
    "# **Binder**\n",
    "\n",
    "This notebook is Binder enabled and can be run on <a target='new' href='https://mybinder.org/'>mybinder.org</a> by using the image link below:\n",
    "\n",
    "<p float=\"left\"> <a href='https://mybinder.org/v2/gh/ccsc-tools/SEP-prediction/HEAD?labpath=YA_01_PredictingSEPUsingBiLSTM.ipynb' target='new'><img align=\"left\" src='https://mybinder.org/badge_logo.svg'></img></a></p>\n",
    "\n",
    "<br><br>\n",
    "Please note that starting Binder might take some time to create and start the image.\n",
    "\n"
   ]
  },
  {
   "cell_type": "markdown",
   "metadata": {},
   "source": [
    "# **SEP DSTT Workflow and Results**\n"
   ]
  },
  {
   "cell_type": "markdown",
   "metadata": {},
   "source": [
    "### **Data Preparation and Loading**\n",
    "The data directory inside the DSTT_Package folder includes all training and test data sets required to run the run the notebook.\n",
    "The files are loaded and used during the testing and training process."
   ]
  },
  {
   "cell_type": "markdown",
   "metadata": {},
   "source": [
    "### **Predicting with Pretrained Models**\n",
    "There are default and pretrained models that can be used to predict without running your own trained model. The models_directory  is set to default_models which uses all pretrained algorithms."
   ]
  },
  {
   "cell_type": "code",
   "execution_count": null,
   "metadata": {
    "scrolled": false
   },
   "outputs": [],
   "source": [
    "\n"
   ]
  },
  {
   "cell_type": "code",
   "execution_count": null,
   "metadata": {
    "scrolled": false
   },
   "outputs": [],
   "source": []
  },
  {
   "cell_type": "markdown",
   "metadata": {},
   "source": [
    "**Plotting the Pretrained Models Results**<br>"
   ]
  },
  {
   "cell_type": "code",
   "execution_count": null,
   "metadata": {
    "scrolled": false
   },
   "outputs": [],
   "source": []
  },
  {
   "cell_type": "code",
   "execution_count": null,
   "metadata": {
    "scrolled": false
   },
   "outputs": [],
   "source": []
  },
  {
   "cell_type": "markdown",
   "metadata": {},
   "source": [
    "### **DSTT Model Training and Testing Example**\n",
    "**DSTT Model Training with Sample Data**<br>\n"
   ]
  },
  {
   "cell_type": "code",
   "execution_count": null,
   "metadata": {
    "scrolled": false
   },
   "outputs": [],
   "source": []
  },
  {
   "cell_type": "code",
   "execution_count": null,
   "metadata": {
    "scrolled": true
   },
   "outputs": [],
   "source": []
  },
  {
   "cell_type": "markdown",
   "metadata": {},
   "source": [
    "**Predicting with Your Trained DSTT Model**<br>\n"
   ]
  },
  {
   "cell_type": "code",
   "execution_count": null,
   "metadata": {
    "scrolled": true
   },
   "outputs": [],
   "source": []
  },
  {
   "cell_type": "code",
   "execution_count": null,
   "metadata": {
    "scrolled": false
   },
   "outputs": [],
   "source": []
  },
  {
   "cell_type": "markdown",
   "metadata": {},
   "source": [
    " **Plotting the Results for Your Trained Model**<br>"
   ]
  },
  {
   "cell_type": "code",
   "execution_count": null,
   "metadata": {
    "scrolled": false
   },
   "outputs": [],
   "source": []
  },
  {
   "cell_type": "code",
   "execution_count": null,
   "metadata": {
    "scrolled": false
   },
   "outputs": [],
   "source": []
  },
  {
   "cell_type": "markdown",
   "metadata": {},
   "source": [
    "### **Timing**\n",
    "Please note that the execution time in mybinder varies based on the availability of resources. The average time to run the notebook is 10-15 minutes, but it could be more.\n",
    "\n",
    "# **Conclusions**\n",
    "\n",
    "\n",
    "# **References**\n",
    "<ol>\n",
    "     <li>\n",
    "         A Deep Learning Approach to Dst Index Prediction<br>\n",
    "    Yasser Abduallah, Jason T. L. Wang, Prianka Bose, Genwei Zhang, Firas Gerges, and Haimin Wang\n",
    "<br>\n",
    "        <a target='new' href='https://iopscience.iop.org/article/10.3847/1538-4365/ac5f56'>https://iopscience.iop.org/article/10.3847/1538-4365/ac5f56</a>\n",
    "    </li>      \n",
    "    <li>\n",
    "        DeepSun: Machine-Learning-as-a-Service for Solar Flare Prediction<br>\n",
    "        Yasser Abduallah, Jason T. L. Wang and Haimin Wang<br>\n",
    "        <a target='new' href='https://doi.org/10.32473/flairs.v35i.130564'>https://doi.org/10.32473/flairs.v35i.130564</a>\n",
    "    </li>\n",
    "</ol>"
   ]
  },
  {
   "cell_type": "code",
   "execution_count": null,
   "metadata": {
    "scrolled": true
   },
   "outputs": [],
   "source": []
  }
 ],
 "metadata": {
  "kernelspec": {
   "display_name": "Python 3 (ipykernel)",
   "language": "python",
   "name": "python3"
  },
  "language_info": {
   "codemirror_mode": {
    "name": "ipython",
    "version": 3
   },
   "file_extension": ".py",
   "mimetype": "text/x-python",
   "name": "python",
   "nbconvert_exporter": "python",
   "pygments_lexer": "ipython3",
   "version": "3.9.7"
  },
  "toc": {
   "base_numbering": 1,
   "nav_menu": {},
   "number_sections": true,
   "sideBar": true,
   "skip_h1_title": false,
   "title_cell": "Table of Contents",
   "title_sidebar": "Contents",
   "toc_cell": true,
   "toc_position": {
    "height": "calc(100% - 180px)",
    "left": "10px",
    "top": "150px",
    "width": "248.182px"
   },
   "toc_section_display": true,
   "toc_window_display": true
  }
 },
 "nbformat": 4,
 "nbformat_minor": 4
}
